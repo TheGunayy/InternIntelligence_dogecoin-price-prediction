{
 "cells": [
  {
   "cell_type": "code",
   "execution_count": 1,
   "id": "b5e7d475-5902-4ac2-addd-6f2b2c4c39f2",
   "metadata": {},
   "outputs": [],
   "source": [
    "import numpy as np\n",
    "import pandas as pd\n",
    "from sklearn.model_selection import train_test_split\n",
    "from sklearn.ensemble import RandomForestRegressor\n",
    "from sklearn.metrics import mean_squared_error, mean_absolute_error\n",
    "import matplotlib.pyplot as plt"
   ]
  },
  {
   "cell_type": "code",
   "execution_count": 3,
   "id": "3c61511b-3a56-4541-b29c-756ffb8232c2",
   "metadata": {},
   "outputs": [],
   "source": [
    "df=pd.read_csv(r\"C:\\Users\\ASUS\\Documents\\DOGE-USD.csv\")"
   ]
  },
  {
   "cell_type": "code",
   "execution_count": 5,
   "id": "30c7b0cf-a7dc-43dd-a1f6-2ecea22db22c",
   "metadata": {},
   "outputs": [
    {
     "data": {
      "text/html": [
       "<div>\n",
       "<style scoped>\n",
       "    .dataframe tbody tr th:only-of-type {\n",
       "        vertical-align: middle;\n",
       "    }\n",
       "\n",
       "    .dataframe tbody tr th {\n",
       "        vertical-align: top;\n",
       "    }\n",
       "\n",
       "    .dataframe thead th {\n",
       "        text-align: right;\n",
       "    }\n",
       "</style>\n",
       "<table border=\"1\" class=\"dataframe\">\n",
       "  <thead>\n",
       "    <tr style=\"text-align: right;\">\n",
       "      <th></th>\n",
       "      <th>Date</th>\n",
       "      <th>Open</th>\n",
       "      <th>High</th>\n",
       "      <th>Low</th>\n",
       "      <th>Close</th>\n",
       "      <th>Adj Close</th>\n",
       "      <th>Volume</th>\n",
       "    </tr>\n",
       "  </thead>\n",
       "  <tbody>\n",
       "    <tr>\n",
       "      <th>0</th>\n",
       "      <td>2017-11-09</td>\n",
       "      <td>0.001207</td>\n",
       "      <td>0.001415</td>\n",
       "      <td>0.001181</td>\n",
       "      <td>0.001415</td>\n",
       "      <td>0.001415</td>\n",
       "      <td>6.259550e+06</td>\n",
       "    </tr>\n",
       "    <tr>\n",
       "      <th>1</th>\n",
       "      <td>2017-11-10</td>\n",
       "      <td>0.001421</td>\n",
       "      <td>0.001431</td>\n",
       "      <td>0.001125</td>\n",
       "      <td>0.001163</td>\n",
       "      <td>0.001163</td>\n",
       "      <td>4.246520e+06</td>\n",
       "    </tr>\n",
       "    <tr>\n",
       "      <th>2</th>\n",
       "      <td>2017-11-11</td>\n",
       "      <td>0.001146</td>\n",
       "      <td>0.001257</td>\n",
       "      <td>0.001141</td>\n",
       "      <td>0.001201</td>\n",
       "      <td>0.001201</td>\n",
       "      <td>2.231080e+06</td>\n",
       "    </tr>\n",
       "    <tr>\n",
       "      <th>3</th>\n",
       "      <td>2017-11-12</td>\n",
       "      <td>0.001189</td>\n",
       "      <td>0.001210</td>\n",
       "      <td>0.001002</td>\n",
       "      <td>0.001038</td>\n",
       "      <td>0.001038</td>\n",
       "      <td>3.288960e+06</td>\n",
       "    </tr>\n",
       "    <tr>\n",
       "      <th>4</th>\n",
       "      <td>2017-11-13</td>\n",
       "      <td>0.001046</td>\n",
       "      <td>0.001212</td>\n",
       "      <td>0.001019</td>\n",
       "      <td>0.001211</td>\n",
       "      <td>0.001211</td>\n",
       "      <td>2.481270e+06</td>\n",
       "    </tr>\n",
       "    <tr>\n",
       "      <th>...</th>\n",
       "      <td>...</td>\n",
       "      <td>...</td>\n",
       "      <td>...</td>\n",
       "      <td>...</td>\n",
       "      <td>...</td>\n",
       "      <td>...</td>\n",
       "      <td>...</td>\n",
       "    </tr>\n",
       "    <tr>\n",
       "      <th>2330</th>\n",
       "      <td>2024-03-27</td>\n",
       "      <td>0.182486</td>\n",
       "      <td>0.191285</td>\n",
       "      <td>0.179843</td>\n",
       "      <td>0.190330</td>\n",
       "      <td>0.190330</td>\n",
       "      <td>4.055909e+09</td>\n",
       "    </tr>\n",
       "    <tr>\n",
       "      <th>2331</th>\n",
       "      <td>2024-03-28</td>\n",
       "      <td>0.190317</td>\n",
       "      <td>0.226581</td>\n",
       "      <td>0.189573</td>\n",
       "      <td>0.220056</td>\n",
       "      <td>0.220056</td>\n",
       "      <td>6.553128e+09</td>\n",
       "    </tr>\n",
       "    <tr>\n",
       "      <th>2332</th>\n",
       "      <td>2024-03-29</td>\n",
       "      <td>0.220056</td>\n",
       "      <td>0.224400</td>\n",
       "      <td>0.208810</td>\n",
       "      <td>0.213491</td>\n",
       "      <td>0.213491</td>\n",
       "      <td>3.493455e+09</td>\n",
       "    </tr>\n",
       "    <tr>\n",
       "      <th>2333</th>\n",
       "      <td>2024-03-30</td>\n",
       "      <td>NaN</td>\n",
       "      <td>NaN</td>\n",
       "      <td>NaN</td>\n",
       "      <td>NaN</td>\n",
       "      <td>NaN</td>\n",
       "      <td>NaN</td>\n",
       "    </tr>\n",
       "    <tr>\n",
       "      <th>2334</th>\n",
       "      <td>2024-03-31</td>\n",
       "      <td>0.199431</td>\n",
       "      <td>0.203116</td>\n",
       "      <td>0.199431</td>\n",
       "      <td>0.203116</td>\n",
       "      <td>0.203116</td>\n",
       "      <td>2.412371e+09</td>\n",
       "    </tr>\n",
       "  </tbody>\n",
       "</table>\n",
       "<p>2335 rows × 7 columns</p>\n",
       "</div>"
      ],
      "text/plain": [
       "            Date      Open      High       Low     Close  Adj Close  \\\n",
       "0     2017-11-09  0.001207  0.001415  0.001181  0.001415   0.001415   \n",
       "1     2017-11-10  0.001421  0.001431  0.001125  0.001163   0.001163   \n",
       "2     2017-11-11  0.001146  0.001257  0.001141  0.001201   0.001201   \n",
       "3     2017-11-12  0.001189  0.001210  0.001002  0.001038   0.001038   \n",
       "4     2017-11-13  0.001046  0.001212  0.001019  0.001211   0.001211   \n",
       "...          ...       ...       ...       ...       ...        ...   \n",
       "2330  2024-03-27  0.182486  0.191285  0.179843  0.190330   0.190330   \n",
       "2331  2024-03-28  0.190317  0.226581  0.189573  0.220056   0.220056   \n",
       "2332  2024-03-29  0.220056  0.224400  0.208810  0.213491   0.213491   \n",
       "2333  2024-03-30       NaN       NaN       NaN       NaN        NaN   \n",
       "2334  2024-03-31  0.199431  0.203116  0.199431  0.203116   0.203116   \n",
       "\n",
       "            Volume  \n",
       "0     6.259550e+06  \n",
       "1     4.246520e+06  \n",
       "2     2.231080e+06  \n",
       "3     3.288960e+06  \n",
       "4     2.481270e+06  \n",
       "...            ...  \n",
       "2330  4.055909e+09  \n",
       "2331  6.553128e+09  \n",
       "2332  3.493455e+09  \n",
       "2333           NaN  \n",
       "2334  2.412371e+09  \n",
       "\n",
       "[2335 rows x 7 columns]"
      ]
     },
     "execution_count": 5,
     "metadata": {},
     "output_type": "execute_result"
    }
   ],
   "source": [
    "df"
   ]
  },
  {
   "cell_type": "code",
   "execution_count": 7,
   "id": "ebfe7086-ae7b-4f21-930b-e15ae5cb842a",
   "metadata": {},
   "outputs": [
    {
     "name": "stdout",
     "output_type": "stream",
     "text": [
      "Date         0\n",
      "Open         1\n",
      "High         1\n",
      "Low          1\n",
      "Close        1\n",
      "Adj Close    1\n",
      "Volume       1\n",
      "dtype: int64\n"
     ]
    }
   ],
   "source": [
    "print(df.isnull().sum())"
   ]
  },
  {
   "cell_type": "code",
   "execution_count": 9,
   "id": "c1e1838f-81ef-4c0a-87f4-aa6152f71bf4",
   "metadata": {},
   "outputs": [
    {
     "data": {
      "text/html": [
       "<div>\n",
       "<style scoped>\n",
       "    .dataframe tbody tr th:only-of-type {\n",
       "        vertical-align: middle;\n",
       "    }\n",
       "\n",
       "    .dataframe tbody tr th {\n",
       "        vertical-align: top;\n",
       "    }\n",
       "\n",
       "    .dataframe thead th {\n",
       "        text-align: right;\n",
       "    }\n",
       "</style>\n",
       "<table border=\"1\" class=\"dataframe\">\n",
       "  <thead>\n",
       "    <tr style=\"text-align: right;\">\n",
       "      <th></th>\n",
       "      <th>Date</th>\n",
       "      <th>Open</th>\n",
       "      <th>High</th>\n",
       "      <th>Low</th>\n",
       "      <th>Close</th>\n",
       "      <th>Adj Close</th>\n",
       "      <th>Volume</th>\n",
       "    </tr>\n",
       "  </thead>\n",
       "  <tbody>\n",
       "    <tr>\n",
       "      <th>0</th>\n",
       "      <td>2017-11-09</td>\n",
       "      <td>0.001207</td>\n",
       "      <td>0.001415</td>\n",
       "      <td>0.001181</td>\n",
       "      <td>0.001415</td>\n",
       "      <td>0.001415</td>\n",
       "      <td>6.259550e+06</td>\n",
       "    </tr>\n",
       "    <tr>\n",
       "      <th>1</th>\n",
       "      <td>2017-11-10</td>\n",
       "      <td>0.001421</td>\n",
       "      <td>0.001431</td>\n",
       "      <td>0.001125</td>\n",
       "      <td>0.001163</td>\n",
       "      <td>0.001163</td>\n",
       "      <td>4.246520e+06</td>\n",
       "    </tr>\n",
       "    <tr>\n",
       "      <th>2</th>\n",
       "      <td>2017-11-11</td>\n",
       "      <td>0.001146</td>\n",
       "      <td>0.001257</td>\n",
       "      <td>0.001141</td>\n",
       "      <td>0.001201</td>\n",
       "      <td>0.001201</td>\n",
       "      <td>2.231080e+06</td>\n",
       "    </tr>\n",
       "    <tr>\n",
       "      <th>3</th>\n",
       "      <td>2017-11-12</td>\n",
       "      <td>0.001189</td>\n",
       "      <td>0.001210</td>\n",
       "      <td>0.001002</td>\n",
       "      <td>0.001038</td>\n",
       "      <td>0.001038</td>\n",
       "      <td>3.288960e+06</td>\n",
       "    </tr>\n",
       "    <tr>\n",
       "      <th>4</th>\n",
       "      <td>2017-11-13</td>\n",
       "      <td>0.001046</td>\n",
       "      <td>0.001212</td>\n",
       "      <td>0.001019</td>\n",
       "      <td>0.001211</td>\n",
       "      <td>0.001211</td>\n",
       "      <td>2.481270e+06</td>\n",
       "    </tr>\n",
       "    <tr>\n",
       "      <th>...</th>\n",
       "      <td>...</td>\n",
       "      <td>...</td>\n",
       "      <td>...</td>\n",
       "      <td>...</td>\n",
       "      <td>...</td>\n",
       "      <td>...</td>\n",
       "      <td>...</td>\n",
       "    </tr>\n",
       "    <tr>\n",
       "      <th>2329</th>\n",
       "      <td>2024-03-26</td>\n",
       "      <td>0.175367</td>\n",
       "      <td>0.186057</td>\n",
       "      <td>0.174924</td>\n",
       "      <td>0.182486</td>\n",
       "      <td>0.182486</td>\n",
       "      <td>2.877195e+09</td>\n",
       "    </tr>\n",
       "    <tr>\n",
       "      <th>2330</th>\n",
       "      <td>2024-03-27</td>\n",
       "      <td>0.182486</td>\n",
       "      <td>0.191285</td>\n",
       "      <td>0.179843</td>\n",
       "      <td>0.190330</td>\n",
       "      <td>0.190330</td>\n",
       "      <td>4.055909e+09</td>\n",
       "    </tr>\n",
       "    <tr>\n",
       "      <th>2331</th>\n",
       "      <td>2024-03-28</td>\n",
       "      <td>0.190317</td>\n",
       "      <td>0.226581</td>\n",
       "      <td>0.189573</td>\n",
       "      <td>0.220056</td>\n",
       "      <td>0.220056</td>\n",
       "      <td>6.553128e+09</td>\n",
       "    </tr>\n",
       "    <tr>\n",
       "      <th>2332</th>\n",
       "      <td>2024-03-29</td>\n",
       "      <td>0.220056</td>\n",
       "      <td>0.224400</td>\n",
       "      <td>0.208810</td>\n",
       "      <td>0.213491</td>\n",
       "      <td>0.213491</td>\n",
       "      <td>3.493455e+09</td>\n",
       "    </tr>\n",
       "    <tr>\n",
       "      <th>2334</th>\n",
       "      <td>2024-03-31</td>\n",
       "      <td>0.199431</td>\n",
       "      <td>0.203116</td>\n",
       "      <td>0.199431</td>\n",
       "      <td>0.203116</td>\n",
       "      <td>0.203116</td>\n",
       "      <td>2.412371e+09</td>\n",
       "    </tr>\n",
       "  </tbody>\n",
       "</table>\n",
       "<p>2334 rows × 7 columns</p>\n",
       "</div>"
      ],
      "text/plain": [
       "            Date      Open      High       Low     Close  Adj Close  \\\n",
       "0     2017-11-09  0.001207  0.001415  0.001181  0.001415   0.001415   \n",
       "1     2017-11-10  0.001421  0.001431  0.001125  0.001163   0.001163   \n",
       "2     2017-11-11  0.001146  0.001257  0.001141  0.001201   0.001201   \n",
       "3     2017-11-12  0.001189  0.001210  0.001002  0.001038   0.001038   \n",
       "4     2017-11-13  0.001046  0.001212  0.001019  0.001211   0.001211   \n",
       "...          ...       ...       ...       ...       ...        ...   \n",
       "2329  2024-03-26  0.175367  0.186057  0.174924  0.182486   0.182486   \n",
       "2330  2024-03-27  0.182486  0.191285  0.179843  0.190330   0.190330   \n",
       "2331  2024-03-28  0.190317  0.226581  0.189573  0.220056   0.220056   \n",
       "2332  2024-03-29  0.220056  0.224400  0.208810  0.213491   0.213491   \n",
       "2334  2024-03-31  0.199431  0.203116  0.199431  0.203116   0.203116   \n",
       "\n",
       "            Volume  \n",
       "0     6.259550e+06  \n",
       "1     4.246520e+06  \n",
       "2     2.231080e+06  \n",
       "3     3.288960e+06  \n",
       "4     2.481270e+06  \n",
       "...            ...  \n",
       "2329  2.877195e+09  \n",
       "2330  4.055909e+09  \n",
       "2331  6.553128e+09  \n",
       "2332  3.493455e+09  \n",
       "2334  2.412371e+09  \n",
       "\n",
       "[2334 rows x 7 columns]"
      ]
     },
     "execution_count": 9,
     "metadata": {},
     "output_type": "execute_result"
    }
   ],
   "source": [
    "df=df.dropna()\n",
    "df"
   ]
  },
  {
   "cell_type": "code",
   "execution_count": 11,
   "id": "cf5b3561-6b15-491c-a159-cf55dff00dc9",
   "metadata": {},
   "outputs": [],
   "source": [
    "df = df.sort_values(by='Date')"
   ]
  },
  {
   "cell_type": "code",
   "execution_count": 13,
   "id": "f972d707-3c0b-41b5-809a-0c74911a7379",
   "metadata": {},
   "outputs": [],
   "source": [
    "df['Date'] = pd.to_datetime(df['Date'])"
   ]
  },
  {
   "cell_type": "code",
   "execution_count": 15,
   "id": "71524516-41b4-4b05-8225-75792259ddc2",
   "metadata": {},
   "outputs": [],
   "source": [
    "df_cleaned = df.dropna()\n"
   ]
  },
  {
   "cell_type": "code",
   "execution_count": 17,
   "id": "d67e3f51-1ede-4c3e-82a2-469e9fbcccb7",
   "metadata": {},
   "outputs": [],
   "source": [
    "df_cleaned = df_cleaned.sort_values(by='Date')"
   ]
  },
  {
   "cell_type": "code",
   "execution_count": 19,
   "id": "f5a629e8-89b8-417b-97d3-8be78cb724cb",
   "metadata": {},
   "outputs": [],
   "source": [
    "df_cleaned['Target'] = df_cleaned['Close'].shift(-1)"
   ]
  },
  {
   "cell_type": "code",
   "execution_count": 21,
   "id": "9c195fa0-4e96-4152-8994-bc51634daa43",
   "metadata": {},
   "outputs": [],
   "source": [
    "df_prepared = df_cleaned[:-1]"
   ]
  },
  {
   "cell_type": "code",
   "execution_count": 23,
   "id": "fa4a8009-28f6-432a-98ab-f0acfea904ed",
   "metadata": {},
   "outputs": [],
   "source": [
    "features = [col for col in ['Open', 'High', 'Low', 'Close', 'Volume'] if col in df_prepared.columns]\n",
    "if not features:\n",
    "    raise ValueError(\"None of the specified features are available in the dataset.\")\n",
    "X = df_prepared[features]  # Features\n",
    "y = df_prepared['Target']  # Target variable  # Target variable"
   ]
  },
  {
   "cell_type": "code",
   "execution_count": 25,
   "id": "77002912-57cd-46ef-8530-fd9681094733",
   "metadata": {},
   "outputs": [],
   "source": [
    "# Train-test split (80% training, 20% testing)\n",
    "X_train, X_test, y_train, y_test = train_test_split(X, y, test_size=0.2, random_state=42, shuffle=False)"
   ]
  },
  {
   "cell_type": "code",
   "execution_count": 27,
   "id": "060a6ee8-d1ef-469b-8891-d0c9a99aa809",
   "metadata": {},
   "outputs": [],
   "source": [
    "# Model Training\n",
    "# Initialize the model\n",
    "model = RandomForestRegressor(n_estimators=100, random_state=42)"
   ]
  },
  {
   "cell_type": "code",
   "execution_count": 29,
   "id": "b549d074-6b0a-4545-be08-8c3b20a57e2e",
   "metadata": {},
   "outputs": [],
   "source": [
    "model.fit(X_train, y_train)\n",
    "# Make predictions on the test set\n",
    "y_pred = model.predict(X_test)"
   ]
  },
  {
   "cell_type": "code",
   "execution_count": 31,
   "id": "41068734-2a8c-4347-a3f3-9bc1df77e985",
   "metadata": {},
   "outputs": [],
   "source": [
    "# Evaluate the model\n",
    "from sklearn.metrics import mean_squared_error as root_mean_squared_error\n",
    "\n",
    "# Evaluate the model\n",
    "rmse = root_mean_squared_error(y_test, y_pred)\n",
    "mae = mean_absolute_error(y_test, y_pred)\n"
   ]
  },
  {
   "cell_type": "code",
   "execution_count": 33,
   "id": "c89e257e-4f03-4971-a203-0f5df5f8fb6f",
   "metadata": {},
   "outputs": [
    {
     "name": "stdout",
     "output_type": "stream",
     "text": [
      "RMSE: 2.7591202426528248e-05\n",
      "MAE: 0.0031584678586723774\n"
     ]
    }
   ],
   "source": [
    "# Print evaluation metrics\n",
    "print(f\"RMSE: {rmse}\")\n",
    "print(f\"MAE: {mae}\")\n"
   ]
  },
  {
   "cell_type": "code",
   "execution_count": 35,
   "id": "05bf30e3-9505-427a-aafd-34617a0ba44d",
   "metadata": {},
   "outputs": [
    {
     "data": {
      "image/png": "[encoded data removed]",
      "text/plain": [
       "<Figure size 1000x600 with 1 Axes>"
      ]
     },
     "metadata": {},
     "output_type": "display_data"
    }
   ],
   "source": [
    "plt.figure(figsize=(10, 6))\n",
    "plt.plot(y_test.values, label='Actual', alpha=0.7)\n",
    "plt.plot(y_pred, label='Predicted', alpha=0.7)\n",
    "plt.title('Actual vs Predicted Closing Prices')\n",
    "plt.legend()\n",
    "plt.xlabel('Time Steps')\n",
    "plt.ylabel('Closing Price')\n",
    "plt.show()\n"
   ]
  },
  {
   "cell_type": "code",
   "execution_count": null,
   "id": "47840601-df67-4cb8-a4ab-6f85c1dbe96b",
   "metadata": {},
   "outputs": [],
   "source": []
  }
 ],
 "metadata": {
  "kernelspec": {
   "display_name": "Python 3 (ipykernel)",
   "language": "python",
   "name": "python3"
  },
  "language_info": {
   "codemirror_mode": {
    "name": "ipython",
    "version": 3
   },
   "file_extension": ".py",
   "mimetype": "text/x-python",
   "name": "python",
   "nbconvert_exporter": "python",
   "pygments_lexer": "ipython3",
   "version": "3.12.7"
  }
 },
 "nbformat": 4,
 "nbformat_minor": 5
}
